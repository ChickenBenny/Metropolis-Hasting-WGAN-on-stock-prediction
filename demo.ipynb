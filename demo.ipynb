{
 "cells": [
  {
   "cell_type": "code",
   "execution_count": 1,
   "metadata": {},
   "outputs": [],
   "source": [
    "import pandas as pd\n",
    "import numpy as np\n",
    "import torch\n",
    "import torch.nn as nn\n",
    "from torch.utils.data import DataLoader, TensorDataset\n",
    "import torch.nn.functional as F\n",
    "import matplotlib.pyplot as plt\n",
    "plt.rcParams['font.family'] = 'serif'\n",
    "plt.rcParams['font.serif'] = ['Times New Roman'] + plt.rcParams['font.serif']\n",
    "from sklearn.metrics import mean_squared_error\n",
    "import random\n",
    "import seaborn as sns\n",
    "import math\n",
    "from sklearn.preprocessing import Normalizer\n",
    "from sklearn.preprocessing import MinMaxScaler\n",
    "from sklearn.preprocessing import StandardScaler\n",
    "from sklearn.preprocessing import MaxAbsScaler\n",
    "from sklearn.preprocessing import RobustScaler\n",
    "import models\n"
   ]
  },
  {
   "cell_type": "code",
   "execution_count": 2,
   "metadata": {},
   "outputs": [],
   "source": [
    "def sliding_windows(x, y, seq_length):\n",
    "    x_windows = []\n",
    "    y_windows = []\n",
    "    for i in range(seq_length, x.shape[0]):\n",
    "        x_windows.append(x[i-seq_length:i, :])\n",
    "        y_windows.append(y[i-seq_length:i+1])\n",
    "    return np.array(x_windows), np.array(y_windows)"
   ]
  },
  {
   "cell_type": "code",
   "execution_count": 6,
   "metadata": {},
   "outputs": [
    {
     "name": "stdout",
     "output_type": "stream",
     "text": [
      "trainX: (2707, 58) trainY: (2707,)\n",
      "testX: (319, 58) testY: (319,)\n"
     ]
    }
   ],
   "source": [
    "data = pd.read_csv('./assets/data.csv')\n",
    "# Try to predict the Close price, and will using the time sliding window function to generate the training data \n",
    "data['y'] = data['Close']\n",
    "\n",
    "# Split the x, y data\n",
    "x = data.iloc[:, :-1].values\n",
    "y = data.iloc[:, -1].values\n",
    "\n",
    "#split the train and test data, we will try to predict the data after 2022-01-01\n",
    "train_x, test_x = x[:-319, :], x[-319:, :]\n",
    "train_y, test_y = y[:-319], y[-319:]\n",
    "\n",
    "print(f'trainX: {train_x.shape} trainY: {train_y.shape}')\n",
    "print(f'testX: {test_x.shape} testY: {test_y.shape}')\n",
    "\n",
    "# Normalize the data\n",
    "x_scaler = StandardScaler()\n",
    "y_scaler = StandardScaler()\n",
    "\n",
    "train_x = x_scaler.fit_transform(train_x)\n",
    "train_y = y_scaler.fit_transform(train_y.reshape(-1, 1))\n",
    "test_x = x_scaler.transform(test_x)\n",
    "test_y = y_scaler.transform(test_y.reshape(-1, 1))\n",
    "\n",
    "# setting VAE and try to extract the latent variables\n",
    "vae = "
   ]
  }
 ],
 "metadata": {
  "kernelspec": {
   "display_name": "Python 3",
   "language": "python",
   "name": "python3"
  },
  "language_info": {
   "codemirror_mode": {
    "name": "ipython",
    "version": 3
   },
   "file_extension": ".py",
   "mimetype": "text/x-python",
   "name": "python",
   "nbconvert_exporter": "python",
   "pygments_lexer": "ipython3",
   "version": "3.11.4"
  },
  "orig_nbformat": 4
 },
 "nbformat": 4,
 "nbformat_minor": 2
}
